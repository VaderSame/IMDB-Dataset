{
 "cells": [
  {
   "cell_type": "code",
   "execution_count": 1,
   "metadata": {},
   "outputs": [
    {
     "name": "stdout",
     "output_type": "stream",
     "text": [
      "Requirement already satisfied: nltk in c:\\users\\semal\\anaconda3\\lib\\site-packages (3.7)\n",
      "Requirement already satisfied: click in c:\\users\\semal\\anaconda3\\lib\\site-packages (from nltk) (8.1.7)\n",
      "Requirement already satisfied: joblib in c:\\users\\semal\\anaconda3\\lib\\site-packages (from nltk) (1.2.0)\n",
      "Requirement already satisfied: regex>=2021.8.3 in c:\\users\\semal\\anaconda3\\lib\\site-packages (from nltk) (2023.10.3)\n",
      "Requirement already satisfied: tqdm in c:\\users\\semal\\anaconda3\\lib\\site-packages (from nltk) (4.65.0)\n",
      "Requirement already satisfied: colorama in c:\\users\\semal\\anaconda3\\lib\\site-packages (from click->nltk) (0.4.6)\n",
      "Note: you may need to restart the kernel to use updated packages.\n"
     ]
    },
    {
     "name": "stderr",
     "output_type": "stream",
     "text": [
      "WARNING: There was an error checking the latest version of pip.\n"
     ]
    }
   ],
   "source": [
    "%pip install nltk"
   ]
  },
  {
   "cell_type": "code",
   "execution_count": 2,
   "metadata": {},
   "outputs": [
    {
     "name": "stdout",
     "output_type": "stream",
     "text": [
      "showing info https://raw.githubusercontent.com/nltk/nltk_data/gh-pages/index.xml\n"
     ]
    },
    {
     "data": {
      "text/plain": [
       "True"
      ]
     },
     "execution_count": 2,
     "metadata": {},
     "output_type": "execute_result"
    }
   ],
   "source": [
    "import nltk\n",
    "nltk.download()"
   ]
  },
  {
   "cell_type": "code",
   "execution_count": 3,
   "metadata": {},
   "outputs": [],
   "source": [
    "import pandas as pd\n",
    "pd.set_option('display.max_colwidth', 100)\n",
    "\n",
    "import numpy as np\n",
    "import re\n",
    "import string "
   ]
  },
  {
   "cell_type": "code",
   "execution_count": 4,
   "metadata": {},
   "outputs": [
    {
     "data": {
      "text/html": [
       "<div>\n",
       "<style scoped>\n",
       "    .dataframe tbody tr th:only-of-type {\n",
       "        vertical-align: middle;\n",
       "    }\n",
       "\n",
       "    .dataframe tbody tr th {\n",
       "        vertical-align: top;\n",
       "    }\n",
       "\n",
       "    .dataframe thead th {\n",
       "        text-align: right;\n",
       "    }\n",
       "</style>\n",
       "<table border=\"1\" class=\"dataframe\">\n",
       "  <thead>\n",
       "    <tr style=\"text-align: right;\">\n",
       "      <th></th>\n",
       "      <th>review</th>\n",
       "      <th>sentiment</th>\n",
       "    </tr>\n",
       "  </thead>\n",
       "  <tbody>\n",
       "    <tr>\n",
       "      <th>0</th>\n",
       "      <td>I thought this was a wonderful way to spend time on a too hot summer weekend, sitting in the air...</td>\n",
       "      <td>positive</td>\n",
       "    </tr>\n",
       "    <tr>\n",
       "      <th>1</th>\n",
       "      <td>Probably my all-time favorite movie, a story of selflessness, sacrifice and dedication to a nobl...</td>\n",
       "      <td>positive</td>\n",
       "    </tr>\n",
       "    <tr>\n",
       "      <th>2</th>\n",
       "      <td>I sure would like to see a resurrection of a up dated Seahunt series with the tech they have tod...</td>\n",
       "      <td>positive</td>\n",
       "    </tr>\n",
       "    <tr>\n",
       "      <th>3</th>\n",
       "      <td>This show was an amazing, fresh &amp; innovative idea in the 70's when it first aired. The first 7 o...</td>\n",
       "      <td>negative</td>\n",
       "    </tr>\n",
       "    <tr>\n",
       "      <th>4</th>\n",
       "      <td>Encouraged by the positive comments about this film on here I was looking forward to watching th...</td>\n",
       "      <td>negative</td>\n",
       "    </tr>\n",
       "  </tbody>\n",
       "</table>\n",
       "</div>"
      ],
      "text/plain": [
       "                                                                                                review  \\\n",
       "0  I thought this was a wonderful way to spend time on a too hot summer weekend, sitting in the air...   \n",
       "1  Probably my all-time favorite movie, a story of selflessness, sacrifice and dedication to a nobl...   \n",
       "2  I sure would like to see a resurrection of a up dated Seahunt series with the tech they have tod...   \n",
       "3  This show was an amazing, fresh & innovative idea in the 70's when it first aired. The first 7 o...   \n",
       "4  Encouraged by the positive comments about this film on here I was looking forward to watching th...   \n",
       "\n",
       "  sentiment  \n",
       "0  positive  \n",
       "1  positive  \n",
       "2  positive  \n",
       "3  negative  \n",
       "4  negative  "
      ]
     },
     "execution_count": 4,
     "metadata": {},
     "output_type": "execute_result"
    }
   ],
   "source": [
    "imdb_prelim = pd.read_excel(\"IMDB_dataset.xlsx\")\n",
    "imdb_prelim.head()"
   ]
  },
  {
   "cell_type": "code",
   "execution_count": 5,
   "metadata": {},
   "outputs": [
    {
     "data": {
      "text/plain": [
       "\"It had all the clichÃ©s of movies of this type and no substance. The plot went nowhere and at the end of the movie I felt like a sucker for watching it. The production was good; however, the script and acting were B-movie quality. The casting was poor because there were good actors mixed in with crumby actors. The good actors didn't hold their own nor did they lift up the others. <br /><br />This movie is not worthy of more words, but I will say more to meet the minimum requirement of ten lines. James Wood and Cuba Gooding, Jr. play caricatures of themselves in other movies. <br /><br />If you are looking for mindless entertainment, I still wouldn't recommend this movie.\""
      ]
     },
     "execution_count": 5,
     "metadata": {},
     "output_type": "execute_result"
    }
   ],
   "source": [
    "imdb_prelim['review'].loc[23]"
   ]
  },
  {
   "cell_type": "code",
   "execution_count": 6,
   "metadata": {},
   "outputs": [
    {
     "data": {
      "text/html": [
       "<div>\n",
       "<style scoped>\n",
       "    .dataframe tbody tr th:only-of-type {\n",
       "        vertical-align: middle;\n",
       "    }\n",
       "\n",
       "    .dataframe tbody tr th {\n",
       "        vertical-align: top;\n",
       "    }\n",
       "\n",
       "    .dataframe thead th {\n",
       "        text-align: right;\n",
       "    }\n",
       "</style>\n",
       "<table border=\"1\" class=\"dataframe\">\n",
       "  <thead>\n",
       "    <tr style=\"text-align: right;\">\n",
       "      <th></th>\n",
       "      <th>review</th>\n",
       "      <th>sentiment</th>\n",
       "    </tr>\n",
       "  </thead>\n",
       "  <tbody>\n",
       "    <tr>\n",
       "      <th>count</th>\n",
       "      <td>25000</td>\n",
       "      <td>25000</td>\n",
       "    </tr>\n",
       "    <tr>\n",
       "      <th>unique</th>\n",
       "      <td>24898</td>\n",
       "      <td>2</td>\n",
       "    </tr>\n",
       "    <tr>\n",
       "      <th>top</th>\n",
       "      <td>When i got this movie free from my job, along with three other similar movies.. I watched then w...</td>\n",
       "      <td>positive</td>\n",
       "    </tr>\n",
       "    <tr>\n",
       "      <th>freq</th>\n",
       "      <td>3</td>\n",
       "      <td>12500</td>\n",
       "    </tr>\n",
       "  </tbody>\n",
       "</table>\n",
       "</div>"
      ],
      "text/plain": [
       "                                                                                                     review  \\\n",
       "count                                                                                                 25000   \n",
       "unique                                                                                                24898   \n",
       "top     When i got this movie free from my job, along with three other similar movies.. I watched then w...   \n",
       "freq                                                                                                      3   \n",
       "\n",
       "       sentiment  \n",
       "count      25000  \n",
       "unique         2  \n",
       "top     positive  \n",
       "freq       12500  "
      ]
     },
     "execution_count": 6,
     "metadata": {},
     "output_type": "execute_result"
    }
   ],
   "source": [
    "imdb_prelim.describe()"
   ]
  },
  {
   "cell_type": "code",
   "execution_count": 7,
   "metadata": {},
   "outputs": [
    {
     "data": {
      "text/plain": [
       "positive    12500\n",
       "negative    12500\n",
       "Name: sentiment, dtype: int64"
      ]
     },
     "execution_count": 7,
     "metadata": {},
     "output_type": "execute_result"
    }
   ],
   "source": [
    "imdb_prelim.sentiment.value_counts()"
   ]
  },
  {
   "cell_type": "markdown",
   "metadata": {},
   "source": [
    "#### We can see that the dataset is balanced."
   ]
  },
  {
   "cell_type": "markdown",
   "metadata": {},
   "source": [
    "## Data Preprocessing"
   ]
  },
  {
   "cell_type": "markdown",
   "metadata": {},
   "source": [
    "### Converting 'reviews' to Lowercase"
   ]
  },
  {
   "cell_type": "code",
   "execution_count": 8,
   "metadata": {},
   "outputs": [
    {
     "data": {
      "text/html": [
       "<div>\n",
       "<style scoped>\n",
       "    .dataframe tbody tr th:only-of-type {\n",
       "        vertical-align: middle;\n",
       "    }\n",
       "\n",
       "    .dataframe tbody tr th {\n",
       "        vertical-align: top;\n",
       "    }\n",
       "\n",
       "    .dataframe thead th {\n",
       "        text-align: right;\n",
       "    }\n",
       "</style>\n",
       "<table border=\"1\" class=\"dataframe\">\n",
       "  <thead>\n",
       "    <tr style=\"text-align: right;\">\n",
       "      <th></th>\n",
       "      <th>review</th>\n",
       "      <th>sentiment</th>\n",
       "    </tr>\n",
       "  </thead>\n",
       "  <tbody>\n",
       "    <tr>\n",
       "      <th>0</th>\n",
       "      <td>i thought this was a wonderful way to spend time on a too hot summer weekend, sitting in the air...</td>\n",
       "      <td>positive</td>\n",
       "    </tr>\n",
       "    <tr>\n",
       "      <th>1</th>\n",
       "      <td>probably my all-time favorite movie, a story of selflessness, sacrifice and dedication to a nobl...</td>\n",
       "      <td>positive</td>\n",
       "    </tr>\n",
       "    <tr>\n",
       "      <th>2</th>\n",
       "      <td>i sure would like to see a resurrection of a up dated seahunt series with the tech they have tod...</td>\n",
       "      <td>positive</td>\n",
       "    </tr>\n",
       "    <tr>\n",
       "      <th>3</th>\n",
       "      <td>this show was an amazing, fresh &amp; innovative idea in the 70's when it first aired. the first 7 o...</td>\n",
       "      <td>negative</td>\n",
       "    </tr>\n",
       "    <tr>\n",
       "      <th>4</th>\n",
       "      <td>encouraged by the positive comments about this film on here i was looking forward to watching th...</td>\n",
       "      <td>negative</td>\n",
       "    </tr>\n",
       "  </tbody>\n",
       "</table>\n",
       "</div>"
      ],
      "text/plain": [
       "                                                                                                review  \\\n",
       "0  i thought this was a wonderful way to spend time on a too hot summer weekend, sitting in the air...   \n",
       "1  probably my all-time favorite movie, a story of selflessness, sacrifice and dedication to a nobl...   \n",
       "2  i sure would like to see a resurrection of a up dated seahunt series with the tech they have tod...   \n",
       "3  this show was an amazing, fresh & innovative idea in the 70's when it first aired. the first 7 o...   \n",
       "4  encouraged by the positive comments about this film on here i was looking forward to watching th...   \n",
       "\n",
       "  sentiment  \n",
       "0  positive  \n",
       "1  positive  \n",
       "2  positive  \n",
       "3  negative  \n",
       "4  negative  "
      ]
     },
     "execution_count": 8,
     "metadata": {},
     "output_type": "execute_result"
    }
   ],
   "source": [
    "imdb_prelim['review'] = imdb_prelim['review'].str.lower()\n",
    "imdb_prelim.head()"
   ]
  },
  {
   "cell_type": "markdown",
   "metadata": {},
   "source": [
    "### Removing HTML tags"
   ]
  },
  {
   "cell_type": "code",
   "execution_count": 9,
   "metadata": {},
   "outputs": [],
   "source": [
    "def remove_html_tags (text):\n",
    "    rmv = re.compile('<.*?>')\n",
    "    return rmv.sub(r'', text)"
   ]
  },
  {
   "cell_type": "code",
   "execution_count": 10,
   "metadata": {},
   "outputs": [
    {
     "data": {
      "text/plain": [
       "0     i thought this was a wonderful way to spend time on a too hot summer weekend, sitting in the air...\n",
       "1     probably my all-time favorite movie, a story of selflessness, sacrifice and dedication to a nobl...\n",
       "2     i sure would like to see a resurrection of a up dated seahunt series with the tech they have tod...\n",
       "3     this show was an amazing, fresh & innovative idea in the 70's when it first aired. the first 7 o...\n",
       "4     encouraged by the positive comments about this film on here i was looking forward to watching th...\n",
       "5     phil the alien is one of those quirky films where the humour is based around the oddness of ever...\n",
       "6     i saw this movie when i was about 12 when it came out. i recall the scariest scene was the big b...\n",
       "7     so im not a big fan of boll's work but then again not many are. i enjoyed his movie postal (mayb...\n",
       "8     this a fantastic movie of three prisoners who become famous. one of the actors is george clooney...\n",
       "9     this movie made it into one of my top 10 most awful movies. horrible. there wasn't a continuous ...\n",
       "10    i had the terrible misfortune of having to view this \"b-movie\" in it's entirety.all i have to sa...\n",
       "11    what an absolutely stunning movie, if you have 2.5 hrs to kill, watch it, you won't regret it, i...\n",
       "12    this was the worst movie i saw at worldfest and it also received the least amount of applause af...\n",
       "13    the karen carpenter story shows a little more about singer karen carpenter's complex life. thoug...\n",
       "14    this film tried to be too many things all at once: stinging political satire, hollywood blockbus...\n",
       "15    this movie was so frustrating. everything seemed energetic and i was totally prepared to have a ...\n",
       "16    taut and organically gripping, edward dmytryk's crossfire is a distinctive suspense thriller, an...\n",
       "17    \"ardh satya\" is one of the finest film ever made in indian cinema. directed by the great directo...\n",
       "18    one of the most significant quotes from the entire film is pronounced halfway through by the pro...\n",
       "19    i watched this film not really expecting much, i got it in a pack of 5 films, all of which were ...\n",
       "20    i bought this film at blockbuster for $3.00, because it sounded interesting (a bit ranma-esque, ...\n",
       "21    the plot is about the death of little children. hopper is the one who has to investigate the kil...\n",
       "22    after sitting through this pile of dung, my husband and i wondered whether it was actually the p...\n",
       "23    it had all the clichã©s of movies of this type and no substance. the plot went nowhere and at th...\n",
       "24    this movie is based on the book, \"a many splendored thing\" by han suyin and tackles issues of ra...\n",
       "Name: review, dtype: object"
      ]
     },
     "execution_count": 10,
     "metadata": {},
     "output_type": "execute_result"
    }
   ],
   "source": [
    "imdb_prelim['review'] = imdb_prelim['review'].apply(remove_html_tags)\n",
    "imdb_prelim['review'].loc[:24]"
   ]
  },
  {
   "cell_type": "markdown",
   "metadata": {},
   "source": [
    "### Removing URLs"
   ]
  },
  {
   "cell_type": "code",
   "execution_count": 11,
   "metadata": {},
   "outputs": [],
   "source": [
    "def remove_url(text):\n",
    "    re_url = re.compile('https?://\\S+|www\\.\\S+')\n",
    "    return re_url.sub('', text)"
   ]
  },
  {
   "cell_type": "code",
   "execution_count": 12,
   "metadata": {},
   "outputs": [
    {
     "data": {
      "text/plain": [
       "\"a message movie, but a rather good one. outstanding cast, top to bottom. interesting in that bette davis's plot line is essentially back story! the extremely negative reviews (name throwing at the screenplay/playwright, associating this somehow with extremely negative comments about 'angles in america', etc. etc.) object to the movie being too preachy about germany in wwii. gosh, that is just a bit too sophisticated an understanding of morality for me.theatrical and movie-making, and acting styles vary over time and of course 70 years later this particular movie would not be made in this way. yes casablanca is a better movie (i guess), but although made in the same year and both having nazis in them, casablanca is primarily a love story. the love story in this movie takes second seat to the spy plot--more of a thriller. both have a rather large number of somewhat cheesy accents and wonderful character actors. the children are a bit tedious and could have been edited\""
      ]
     },
     "execution_count": 12,
     "metadata": {},
     "output_type": "execute_result"
    }
   ],
   "source": [
    "imdb_prelim['review'] = imdb_prelim['review'].apply(remove_url)\n",
    "imdb_prelim['review'].loc[2336]"
   ]
  },
  {
   "cell_type": "markdown",
   "metadata": {},
   "source": [
    "## Removing Punctuations"
   ]
  },
  {
   "cell_type": "code",
   "execution_count": 13,
   "metadata": {},
   "outputs": [],
   "source": [
    "def remove_punct(text):\n",
    "    re_punct = \"\".join([char for char in text if char not in string.punctuation])\n",
    "    return re_punct"
   ]
  },
  {
   "cell_type": "code",
   "execution_count": 14,
   "metadata": {},
   "outputs": [
    {
     "data": {
      "text/html": [
       "<div>\n",
       "<style scoped>\n",
       "    .dataframe tbody tr th:only-of-type {\n",
       "        vertical-align: middle;\n",
       "    }\n",
       "\n",
       "    .dataframe tbody tr th {\n",
       "        vertical-align: top;\n",
       "    }\n",
       "\n",
       "    .dataframe thead th {\n",
       "        text-align: right;\n",
       "    }\n",
       "</style>\n",
       "<table border=\"1\" class=\"dataframe\">\n",
       "  <thead>\n",
       "    <tr style=\"text-align: right;\">\n",
       "      <th></th>\n",
       "      <th>review</th>\n",
       "      <th>sentiment</th>\n",
       "    </tr>\n",
       "  </thead>\n",
       "  <tbody>\n",
       "    <tr>\n",
       "      <th>0</th>\n",
       "      <td>i thought this was a wonderful way to spend time on a too hot summer weekend sitting in the air ...</td>\n",
       "      <td>positive</td>\n",
       "    </tr>\n",
       "    <tr>\n",
       "      <th>1</th>\n",
       "      <td>probably my alltime favorite movie a story of selflessness sacrifice and dedication to a noble c...</td>\n",
       "      <td>positive</td>\n",
       "    </tr>\n",
       "    <tr>\n",
       "      <th>2</th>\n",
       "      <td>i sure would like to see a resurrection of a up dated seahunt series with the tech they have tod...</td>\n",
       "      <td>positive</td>\n",
       "    </tr>\n",
       "    <tr>\n",
       "      <th>3</th>\n",
       "      <td>this show was an amazing fresh  innovative idea in the 70s when it first aired the first 7 or 8 ...</td>\n",
       "      <td>negative</td>\n",
       "    </tr>\n",
       "    <tr>\n",
       "      <th>4</th>\n",
       "      <td>encouraged by the positive comments about this film on here i was looking forward to watching th...</td>\n",
       "      <td>negative</td>\n",
       "    </tr>\n",
       "  </tbody>\n",
       "</table>\n",
       "</div>"
      ],
      "text/plain": [
       "                                                                                                review  \\\n",
       "0  i thought this was a wonderful way to spend time on a too hot summer weekend sitting in the air ...   \n",
       "1  probably my alltime favorite movie a story of selflessness sacrifice and dedication to a noble c...   \n",
       "2  i sure would like to see a resurrection of a up dated seahunt series with the tech they have tod...   \n",
       "3  this show was an amazing fresh  innovative idea in the 70s when it first aired the first 7 or 8 ...   \n",
       "4  encouraged by the positive comments about this film on here i was looking forward to watching th...   \n",
       "\n",
       "  sentiment  \n",
       "0  positive  \n",
       "1  positive  \n",
       "2  positive  \n",
       "3  negative  \n",
       "4  negative  "
      ]
     },
     "execution_count": 14,
     "metadata": {},
     "output_type": "execute_result"
    }
   ],
   "source": [
    "imdb_prelim['review'] = imdb_prelim['review'].apply(remove_punct)\n",
    "imdb_prelim.head()"
   ]
  },
  {
   "cell_type": "markdown",
   "metadata": {},
   "source": [
    "## Tokenization "
   ]
  },
  {
   "cell_type": "code",
   "execution_count": 15,
   "metadata": {},
   "outputs": [],
   "source": [
    "def tokenize(text):\n",
    "    tokens = re.split('\\W+', text)\n",
    "    return tokens"
   ]
  },
  {
   "cell_type": "code",
   "execution_count": 16,
   "metadata": {},
   "outputs": [
    {
     "data": {
      "text/html": [
       "<div>\n",
       "<style scoped>\n",
       "    .dataframe tbody tr th:only-of-type {\n",
       "        vertical-align: middle;\n",
       "    }\n",
       "\n",
       "    .dataframe tbody tr th {\n",
       "        vertical-align: top;\n",
       "    }\n",
       "\n",
       "    .dataframe thead th {\n",
       "        text-align: right;\n",
       "    }\n",
       "</style>\n",
       "<table border=\"1\" class=\"dataframe\">\n",
       "  <thead>\n",
       "    <tr style=\"text-align: right;\">\n",
       "      <th></th>\n",
       "      <th>review</th>\n",
       "      <th>sentiment</th>\n",
       "      <th>review_token</th>\n",
       "    </tr>\n",
       "  </thead>\n",
       "  <tbody>\n",
       "    <tr>\n",
       "      <th>0</th>\n",
       "      <td>i thought this was a wonderful way to spend time on a too hot summer weekend sitting in the air ...</td>\n",
       "      <td>positive</td>\n",
       "      <td>[i, thought, this, was, a, wonderful, way, to, spend, time, on, a, too, hot, summer, weekend, si...</td>\n",
       "    </tr>\n",
       "    <tr>\n",
       "      <th>1</th>\n",
       "      <td>probably my alltime favorite movie a story of selflessness sacrifice and dedication to a noble c...</td>\n",
       "      <td>positive</td>\n",
       "      <td>[probably, my, alltime, favorite, movie, a, story, of, selflessness, sacrifice, and, dedication,...</td>\n",
       "    </tr>\n",
       "    <tr>\n",
       "      <th>2</th>\n",
       "      <td>i sure would like to see a resurrection of a up dated seahunt series with the tech they have tod...</td>\n",
       "      <td>positive</td>\n",
       "      <td>[i, sure, would, like, to, see, a, resurrection, of, a, up, dated, seahunt, series, with, the, t...</td>\n",
       "    </tr>\n",
       "    <tr>\n",
       "      <th>3</th>\n",
       "      <td>this show was an amazing fresh  innovative idea in the 70s when it first aired the first 7 or 8 ...</td>\n",
       "      <td>negative</td>\n",
       "      <td>[this, show, was, an, amazing, fresh, innovative, idea, in, the, 70s, when, it, first, aired, th...</td>\n",
       "    </tr>\n",
       "    <tr>\n",
       "      <th>4</th>\n",
       "      <td>encouraged by the positive comments about this film on here i was looking forward to watching th...</td>\n",
       "      <td>negative</td>\n",
       "      <td>[encouraged, by, the, positive, comments, about, this, film, on, here, i, was, looking, forward,...</td>\n",
       "    </tr>\n",
       "  </tbody>\n",
       "</table>\n",
       "</div>"
      ],
      "text/plain": [
       "                                                                                                review  \\\n",
       "0  i thought this was a wonderful way to spend time on a too hot summer weekend sitting in the air ...   \n",
       "1  probably my alltime favorite movie a story of selflessness sacrifice and dedication to a noble c...   \n",
       "2  i sure would like to see a resurrection of a up dated seahunt series with the tech they have tod...   \n",
       "3  this show was an amazing fresh  innovative idea in the 70s when it first aired the first 7 or 8 ...   \n",
       "4  encouraged by the positive comments about this film on here i was looking forward to watching th...   \n",
       "\n",
       "  sentiment  \\\n",
       "0  positive   \n",
       "1  positive   \n",
       "2  positive   \n",
       "3  negative   \n",
       "4  negative   \n",
       "\n",
       "                                                                                          review_token  \n",
       "0  [i, thought, this, was, a, wonderful, way, to, spend, time, on, a, too, hot, summer, weekend, si...  \n",
       "1  [probably, my, alltime, favorite, movie, a, story, of, selflessness, sacrifice, and, dedication,...  \n",
       "2  [i, sure, would, like, to, see, a, resurrection, of, a, up, dated, seahunt, series, with, the, t...  \n",
       "3  [this, show, was, an, amazing, fresh, innovative, idea, in, the, 70s, when, it, first, aired, th...  \n",
       "4  [encouraged, by, the, positive, comments, about, this, film, on, here, i, was, looking, forward,...  "
      ]
     },
     "execution_count": 16,
     "metadata": {},
     "output_type": "execute_result"
    }
   ],
   "source": [
    "imdb_prelim['review_token'] = imdb_prelim['review'].apply(tokenize)\n",
    "imdb_prelim.head()"
   ]
  },
  {
   "cell_type": "markdown",
   "metadata": {},
   "source": [
    "## Removing Stopwords"
   ]
  },
  {
   "cell_type": "code",
   "execution_count": 17,
   "metadata": {},
   "outputs": [],
   "source": [
    "from nltk.corpus import stopwords\n",
    "stopwords_english = stopwords.words('english')"
   ]
  },
  {
   "cell_type": "code",
   "execution_count": 18,
   "metadata": {},
   "outputs": [],
   "source": [
    "def remove_stopwords(text):\n",
    "    re_stp = [word for word in text if word not in stopwords_english]\n",
    "    return re_stp"
   ]
  },
  {
   "cell_type": "code",
   "execution_count": 19,
   "metadata": {},
   "outputs": [
    {
     "data": {
      "text/html": [
       "<div>\n",
       "<style scoped>\n",
       "    .dataframe tbody tr th:only-of-type {\n",
       "        vertical-align: middle;\n",
       "    }\n",
       "\n",
       "    .dataframe tbody tr th {\n",
       "        vertical-align: top;\n",
       "    }\n",
       "\n",
       "    .dataframe thead th {\n",
       "        text-align: right;\n",
       "    }\n",
       "</style>\n",
       "<table border=\"1\" class=\"dataframe\">\n",
       "  <thead>\n",
       "    <tr style=\"text-align: right;\">\n",
       "      <th></th>\n",
       "      <th>review</th>\n",
       "      <th>sentiment</th>\n",
       "      <th>review_token</th>\n",
       "      <th>review_stopwords</th>\n",
       "    </tr>\n",
       "  </thead>\n",
       "  <tbody>\n",
       "    <tr>\n",
       "      <th>0</th>\n",
       "      <td>i thought this was a wonderful way to spend time on a too hot summer weekend sitting in the air ...</td>\n",
       "      <td>positive</td>\n",
       "      <td>[i, thought, this, was, a, wonderful, way, to, spend, time, on, a, too, hot, summer, weekend, si...</td>\n",
       "      <td>[thought, wonderful, way, spend, time, hot, summer, weekend, sitting, air, conditioned, theater,...</td>\n",
       "    </tr>\n",
       "    <tr>\n",
       "      <th>1</th>\n",
       "      <td>probably my alltime favorite movie a story of selflessness sacrifice and dedication to a noble c...</td>\n",
       "      <td>positive</td>\n",
       "      <td>[probably, my, alltime, favorite, movie, a, story, of, selflessness, sacrifice, and, dedication,...</td>\n",
       "      <td>[probably, alltime, favorite, movie, story, selflessness, sacrifice, dedication, noble, cause, p...</td>\n",
       "    </tr>\n",
       "    <tr>\n",
       "      <th>2</th>\n",
       "      <td>i sure would like to see a resurrection of a up dated seahunt series with the tech they have tod...</td>\n",
       "      <td>positive</td>\n",
       "      <td>[i, sure, would, like, to, see, a, resurrection, of, a, up, dated, seahunt, series, with, the, t...</td>\n",
       "      <td>[sure, would, like, see, resurrection, dated, seahunt, series, tech, today, would, bring, back, ...</td>\n",
       "    </tr>\n",
       "    <tr>\n",
       "      <th>3</th>\n",
       "      <td>this show was an amazing fresh  innovative idea in the 70s when it first aired the first 7 or 8 ...</td>\n",
       "      <td>negative</td>\n",
       "      <td>[this, show, was, an, amazing, fresh, innovative, idea, in, the, 70s, when, it, first, aired, th...</td>\n",
       "      <td>[show, amazing, fresh, innovative, idea, 70s, first, aired, first, 7, 8, years, brilliant, thing...</td>\n",
       "    </tr>\n",
       "    <tr>\n",
       "      <th>4</th>\n",
       "      <td>encouraged by the positive comments about this film on here i was looking forward to watching th...</td>\n",
       "      <td>negative</td>\n",
       "      <td>[encouraged, by, the, positive, comments, about, this, film, on, here, i, was, looking, forward,...</td>\n",
       "      <td>[encouraged, positive, comments, film, looking, forward, watching, film, bad, mistake, ive, seen...</td>\n",
       "    </tr>\n",
       "  </tbody>\n",
       "</table>\n",
       "</div>"
      ],
      "text/plain": [
       "                                                                                                review  \\\n",
       "0  i thought this was a wonderful way to spend time on a too hot summer weekend sitting in the air ...   \n",
       "1  probably my alltime favorite movie a story of selflessness sacrifice and dedication to a noble c...   \n",
       "2  i sure would like to see a resurrection of a up dated seahunt series with the tech they have tod...   \n",
       "3  this show was an amazing fresh  innovative idea in the 70s when it first aired the first 7 or 8 ...   \n",
       "4  encouraged by the positive comments about this film on here i was looking forward to watching th...   \n",
       "\n",
       "  sentiment  \\\n",
       "0  positive   \n",
       "1  positive   \n",
       "2  positive   \n",
       "3  negative   \n",
       "4  negative   \n",
       "\n",
       "                                                                                          review_token  \\\n",
       "0  [i, thought, this, was, a, wonderful, way, to, spend, time, on, a, too, hot, summer, weekend, si...   \n",
       "1  [probably, my, alltime, favorite, movie, a, story, of, selflessness, sacrifice, and, dedication,...   \n",
       "2  [i, sure, would, like, to, see, a, resurrection, of, a, up, dated, seahunt, series, with, the, t...   \n",
       "3  [this, show, was, an, amazing, fresh, innovative, idea, in, the, 70s, when, it, first, aired, th...   \n",
       "4  [encouraged, by, the, positive, comments, about, this, film, on, here, i, was, looking, forward,...   \n",
       "\n",
       "                                                                                      review_stopwords  \n",
       "0  [thought, wonderful, way, spend, time, hot, summer, weekend, sitting, air, conditioned, theater,...  \n",
       "1  [probably, alltime, favorite, movie, story, selflessness, sacrifice, dedication, noble, cause, p...  \n",
       "2  [sure, would, like, see, resurrection, dated, seahunt, series, tech, today, would, bring, back, ...  \n",
       "3  [show, amazing, fresh, innovative, idea, 70s, first, aired, first, 7, 8, years, brilliant, thing...  \n",
       "4  [encouraged, positive, comments, film, looking, forward, watching, film, bad, mistake, ive, seen...  "
      ]
     },
     "execution_count": 19,
     "metadata": {},
     "output_type": "execute_result"
    }
   ],
   "source": [
    "imdb_prelim['review_stopwords'] = imdb_prelim['review_token'].apply(remove_stopwords)\n",
    "imdb_prelim.head()"
   ]
  },
  {
   "cell_type": "markdown",
   "metadata": {},
   "source": [
    "## Stemming "
   ]
  },
  {
   "cell_type": "code",
   "execution_count": 20,
   "metadata": {},
   "outputs": [],
   "source": [
    "from nltk.stem.porter import PorterStemmer\n",
    "ps = PorterStemmer()\n",
    "def perform_stemming(text):\n",
    "    new_text = [ps.stem(word) for word in text]\n",
    "    return ' '.join(new_text)"
   ]
  },
  {
   "cell_type": "code",
   "execution_count": 22,
   "metadata": {},
   "outputs": [
    {
     "data": {
      "text/html": [
       "<div>\n",
       "<style scoped>\n",
       "    .dataframe tbody tr th:only-of-type {\n",
       "        vertical-align: middle;\n",
       "    }\n",
       "\n",
       "    .dataframe tbody tr th {\n",
       "        vertical-align: top;\n",
       "    }\n",
       "\n",
       "    .dataframe thead th {\n",
       "        text-align: right;\n",
       "    }\n",
       "</style>\n",
       "<table border=\"1\" class=\"dataframe\">\n",
       "  <thead>\n",
       "    <tr style=\"text-align: right;\">\n",
       "      <th></th>\n",
       "      <th>review</th>\n",
       "      <th>sentiment</th>\n",
       "      <th>review_token</th>\n",
       "      <th>review_stopwords</th>\n",
       "      <th>review_stemmed</th>\n",
       "    </tr>\n",
       "  </thead>\n",
       "  <tbody>\n",
       "    <tr>\n",
       "      <th>0</th>\n",
       "      <td>i thought this was a wonderful way to spend time on a too hot summer weekend sitting in the air ...</td>\n",
       "      <td>positive</td>\n",
       "      <td>[i, thought, this, was, a, wonderful, way, to, spend, time, on, a, too, hot, summer, weekend, si...</td>\n",
       "      <td>[thought, wonderful, way, spend, time, hot, summer, weekend, sitting, air, conditioned, theater,...</td>\n",
       "      <td>thought wonder way spend time hot summer weekend sit air condit theater watch lightheart comedi ...</td>\n",
       "    </tr>\n",
       "    <tr>\n",
       "      <th>1</th>\n",
       "      <td>probably my alltime favorite movie a story of selflessness sacrifice and dedication to a noble c...</td>\n",
       "      <td>positive</td>\n",
       "      <td>[probably, my, alltime, favorite, movie, a, story, of, selflessness, sacrifice, and, dedication,...</td>\n",
       "      <td>[probably, alltime, favorite, movie, story, selflessness, sacrifice, dedication, noble, cause, p...</td>\n",
       "      <td>probabl alltim favorit movi stori selfless sacrific dedic nobl caus preachi bore never get old d...</td>\n",
       "    </tr>\n",
       "    <tr>\n",
       "      <th>2</th>\n",
       "      <td>i sure would like to see a resurrection of a up dated seahunt series with the tech they have tod...</td>\n",
       "      <td>positive</td>\n",
       "      <td>[i, sure, would, like, to, see, a, resurrection, of, a, up, dated, seahunt, series, with, the, t...</td>\n",
       "      <td>[sure, would, like, see, resurrection, dated, seahunt, series, tech, today, would, bring, back, ...</td>\n",
       "      <td>sure would like see resurrect date seahunt seri tech today would bring back kid excit mei grew b...</td>\n",
       "    </tr>\n",
       "    <tr>\n",
       "      <th>3</th>\n",
       "      <td>this show was an amazing fresh  innovative idea in the 70s when it first aired the first 7 or 8 ...</td>\n",
       "      <td>negative</td>\n",
       "      <td>[this, show, was, an, amazing, fresh, innovative, idea, in, the, 70s, when, it, first, aired, th...</td>\n",
       "      <td>[show, amazing, fresh, innovative, idea, 70s, first, aired, first, 7, 8, years, brilliant, thing...</td>\n",
       "      <td>show amaz fresh innov idea 70 first air first 7 8 year brilliant thing drop 1990 show realli fun...</td>\n",
       "    </tr>\n",
       "    <tr>\n",
       "      <th>4</th>\n",
       "      <td>encouraged by the positive comments about this film on here i was looking forward to watching th...</td>\n",
       "      <td>negative</td>\n",
       "      <td>[encouraged, by, the, positive, comments, about, this, film, on, here, i, was, looking, forward,...</td>\n",
       "      <td>[encouraged, positive, comments, film, looking, forward, watching, film, bad, mistake, ive, seen...</td>\n",
       "      <td>encourag posit comment film look forward watch film bad mistak ive seen 950 film truli one worst...</td>\n",
       "    </tr>\n",
       "  </tbody>\n",
       "</table>\n",
       "</div>"
      ],
      "text/plain": [
       "                                                                                                review  \\\n",
       "0  i thought this was a wonderful way to spend time on a too hot summer weekend sitting in the air ...   \n",
       "1  probably my alltime favorite movie a story of selflessness sacrifice and dedication to a noble c...   \n",
       "2  i sure would like to see a resurrection of a up dated seahunt series with the tech they have tod...   \n",
       "3  this show was an amazing fresh  innovative idea in the 70s when it first aired the first 7 or 8 ...   \n",
       "4  encouraged by the positive comments about this film on here i was looking forward to watching th...   \n",
       "\n",
       "  sentiment  \\\n",
       "0  positive   \n",
       "1  positive   \n",
       "2  positive   \n",
       "3  negative   \n",
       "4  negative   \n",
       "\n",
       "                                                                                          review_token  \\\n",
       "0  [i, thought, this, was, a, wonderful, way, to, spend, time, on, a, too, hot, summer, weekend, si...   \n",
       "1  [probably, my, alltime, favorite, movie, a, story, of, selflessness, sacrifice, and, dedication,...   \n",
       "2  [i, sure, would, like, to, see, a, resurrection, of, a, up, dated, seahunt, series, with, the, t...   \n",
       "3  [this, show, was, an, amazing, fresh, innovative, idea, in, the, 70s, when, it, first, aired, th...   \n",
       "4  [encouraged, by, the, positive, comments, about, this, film, on, here, i, was, looking, forward,...   \n",
       "\n",
       "                                                                                      review_stopwords  \\\n",
       "0  [thought, wonderful, way, spend, time, hot, summer, weekend, sitting, air, conditioned, theater,...   \n",
       "1  [probably, alltime, favorite, movie, story, selflessness, sacrifice, dedication, noble, cause, p...   \n",
       "2  [sure, would, like, see, resurrection, dated, seahunt, series, tech, today, would, bring, back, ...   \n",
       "3  [show, amazing, fresh, innovative, idea, 70s, first, aired, first, 7, 8, years, brilliant, thing...   \n",
       "4  [encouraged, positive, comments, film, looking, forward, watching, film, bad, mistake, ive, seen...   \n",
       "\n",
       "                                                                                        review_stemmed  \n",
       "0  thought wonder way spend time hot summer weekend sit air condit theater watch lightheart comedi ...  \n",
       "1  probabl alltim favorit movi stori selfless sacrific dedic nobl caus preachi bore never get old d...  \n",
       "2  sure would like see resurrect date seahunt seri tech today would bring back kid excit mei grew b...  \n",
       "3  show amaz fresh innov idea 70 first air first 7 8 year brilliant thing drop 1990 show realli fun...  \n",
       "4  encourag posit comment film look forward watch film bad mistak ive seen 950 film truli one worst...  "
      ]
     },
     "execution_count": 22,
     "metadata": {},
     "output_type": "execute_result"
    }
   ],
   "source": [
    "imdb_prelim['review_stemmed'] = imdb_prelim['review_stopwords'].apply(perform_stemming)\n",
    "imdb_prelim.head()"
   ]
  },
  {
   "cell_type": "code",
   "execution_count": null,
   "metadata": {},
   "outputs": [],
   "source": []
  }
 ],
 "metadata": {
  "kernelspec": {
   "display_name": "base",
   "language": "python",
   "name": "python3"
  },
  "language_info": {
   "codemirror_mode": {
    "name": "ipython",
    "version": 3
   },
   "file_extension": ".py",
   "mimetype": "text/x-python",
   "name": "python",
   "nbconvert_exporter": "python",
   "pygments_lexer": "ipython3",
   "version": "3.10.13"
  }
 },
 "nbformat": 4,
 "nbformat_minor": 2
}
